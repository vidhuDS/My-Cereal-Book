{
 "cells": [
  {
   "cell_type": "markdown",
   "metadata": {},
   "source": [
    "# History of Cereals\n",
    "\n",
    "History of first cereal ever created dates back to 1860's when James Caleb Jackson created ['granula'](https://www.nytimes.com/interactive/2016/02/22/dining/history-of-cereal.html) from dried graham flour dough that needed to be soaked in milk overnight. Later, in 1877, John Harvey Kellogg, a nutritionist, health activist, experimented to produce a softer and easy to chew breakfast food, from a mixture of wheat, oats, and corn and baked at high temperatures. The crumbs created after cooling it was then named as Granola, the very first breakfast cereal. Hence, Kellogg can be considered as the inventor of modern day cereal.\n",
    "\n",
    "![John Harvey Kellogg](https://www.historyhit.com/app/uploads/2022/04/Kellogg-750px.jpg?x79957)\n",
    "                                 **John Harvey Kellogg**\n",
    "\n",
    "Kelloggs later on figured out to create cereal flakes and are best known for the invention of the famous breakfast cereal corn flakes. Since then, there have been many brands and varieties have been created ranging from rice puffs, wheat, oats and other grain varieties. It was not until 1940s that Cheerios (earlier known as CheeriOats) which became extremely popular selling cereal brand in America with over $1 billion sales in 2015 with Honey Nut Cheerios being the most popular brand."
   ]
  },
  {
   "cell_type": "markdown",
   "metadata": {},
   "source": [
    "## Tony, The Tiger or Katy, the Kangaroo!!\n",
    "After World war II, the cereal consumption continued to increase with baby boomers and many new variations of cereals came to the forefront, like frosted flakes, fruit flavored cereals, chocolate flavored with corn syrup as one of the main additives. \n",
    "It was not just the variety of cereal, color, that expanded, but newer branding strategies appeared with most commercials and cereal mascots became popular strategy to market these products to young children. Tony, the tiger and Katy, the Kangaroo were two of the earlier known ones but these have continued to evolve over times. The only factor that stayed consistent was to find newer more popular children's characters to keep their attention.\n",
    "\n",
    "![Marketing mascots of cereals](https://i0.wp.com/retropond.com/wp-content/uploads/2021/05/CerealMascots-Featured.jpg?resize=1320%2C690&ssl=1)\n",
    "[Picture Credit](https://retropond.com/best-cartoon-cereal-mascots-ranked/)\n",
    "\n",
    "```{margin} Who is your favourite cereal superstar?```"
   ]
  },
  {
   "cell_type": "markdown",
   "metadata": {},
   "source": [
    "Cereal continues to be popular with kids and adults alike. While for kids it may be their favourite animation characters, mascots, flavors while for adults it may be healthy and fast option of food. In the subsequent section on [Nutritional facts](Nutritional_info_cereals.ipynb), we will learn more about the nutrition facts on popular cereals and we will explore if popular cereals are indeed healthy or sugar loaded food option.\n",
    "\n",
    "![Cereal timeline](https://miro.medium.com/max/1400/1*RlAqlO1iACsoPTvGQs_MHA.webp)\n",
    "[Picture credit](https://miro.medium.com/max/1400/1*RlAqlO1iACsoPTvGQs_MHA.webp)"
   ]
  },
  {
   "cell_type": "code",
   "execution_count": null,
   "metadata": {},
   "outputs": [],
   "source": []
  }
 ],
 "metadata": {
  "kernelspec": {
   "display_name": "Python 3 (ipykernel)",
   "language": "python",
   "name": "python3"
  },
  "language_info": {
   "codemirror_mode": {
    "name": "ipython",
    "version": 3
   },
   "file_extension": ".py",
   "mimetype": "text/x-python",
   "name": "python",
   "nbconvert_exporter": "python",
   "pygments_lexer": "ipython3",
   "version": "3.9.12"
  },
  "widgets": {
   "application/vnd.jupyter.widget-state+json": {
    "state": {},
    "version_major": 2,
    "version_minor": 0
   }
  }
 },
 "nbformat": 4,
 "nbformat_minor": 4
}

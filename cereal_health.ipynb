{
 "cells": [
  {
   "cell_type": "markdown",
   "id": "4a75c8a7-c75e-475e-ba99-3b8ff1b1dcf2",
   "metadata": {},
   "source": [
    "# Cereal for health- Fact or myth?\n",
    "\n",
    "First meal of the day (breakfast) is considered the most important meal of the day. This has been leveraged by cereal companies to highlight that how they pack that first meal in the form of cereal with all healthy ingredients. \n",
    "\n",
    "It is a constant debate and up for discussion. On one side, I as a biochemistry scientist completely understand that how commercial cereals are full of processed and refined ingredients but from our last section on [Nutrition facts](Nutritional_info_cereals) somewhere indicated that popular cereals have less sugar and more good ingredients like high fiber content. Therefore, it is not an easy question to answer. \n",
    "\n",
    "Cereal manufacturers are smart and using marketing strategies that are more relevant to health conscious consumers. We constantly see cereals as easy and fast way to nourish our bodies packed with vitamins, fiber, low sugar alternatives to traditional breakfast. In addition, consumers seeking easy solution for weight loss are also tempted to use easy to calculate calories from cereals to control their dietary intake. In the next section, I will share an easy way I found [here](https://www.primermagazine.com/2012/train/diet-math-a-simple-way-to-calculate-macros-and-calories-for-your-goals) to calculate macro nutrients i.e. protein, carbohyrate and fat for target calorie intake.Let's dive in!\n",
    "\n",
    "![Cereal for Weight Loss](Weight-loss_cereal.jpg)\n",
    "\n",
    "[Image Credit](https://www.express.co.uk/life-style/diets/1176069/weight-loss-breakfast-cereal-grain-wheat-germ-lose-fast-food-diet) "
   ]
  },
  {
   "cell_type": "markdown",
   "id": "b636bfc4-0ae8-4746-baab-8304562094e4",
   "metadata": {},
   "source": [
    "### Calorie intake\n",
    "\n",
    "The intake of three major components of a diet also known as macronutrients can be controlled to yield the desired calorie intake target. This [article](https://www.primermagazine.com/2012/train/diet-math-a-simple-way-to-calculate-macros-and-calories-for-your-goals) describes it using a simple calculation:\n",
    "\n",
    "**Protein** : Protein provides 4 calories per gram. One gram per pound of the desired bodyweight per day is recommended. Protein contributes to body mass and will stay consistent with the body weight. The common sources are meat, pulses/beans, nuts, dairy.\n",
    "\n",
    "**Fat**: Fats provide 9 calories per gram. Healthy fats should be taken 0.5 grams per pound of the desired bodyweight. There are many healthy varieties of healthy fat like from nuts, avocado, flaxseed, etc.\n",
    "\n",
    "**Carbohydrate**: Carbohydrates are required for immediate utilization and provide 4 calories per gram. This can be adjusted based on the target body weight goals, for ex. if one wants to lose weight, go with 1gram per pound of desired bodyweight. For maintenance of existing body weight, 2 grams per pound of desired bodyweight, and for muscle gain, go with 3 gram per pound of desired body weight.\n",
    "\n",
    "Let’s look at an example\n",
    "A 220 pound individual wants to be **170 pounds**.\n",
    "\n",
    "\n",
    " Desired calories from protein = P\n",
    " \n",
    " $P = 170 x 4  = 680$\n",
    "\n",
    "Desired calories from fats = F\n",
    "\n",
    "$F = 85 x 9 = 765$\n",
    "\n",
    "Desired calories from fats = C\n",
    "\n",
    "$C = 170 x 4 = 680$\n",
    "\n",
    "Target calories intake (T) calories\n",
    "\n",
    "$T= P + F + C = 680 + 765 + 680 = 2125$\n"
   ]
  },
  {
   "cell_type": "markdown",
   "id": "6825963b-288a-4286-be5c-8ad95c1a7201",
   "metadata": {},
   "source": [
    "```{Warning}\n",
    "Appropriate physical activity is necessary to see the results!!```"
   ]
  },
  {
   "cell_type": "code",
   "execution_count": null,
   "id": "86d537ea-43e7-4e97-afeb-c84394e4ff50",
   "metadata": {},
   "outputs": [],
   "source": []
  }
 ],
 "metadata": {
  "kernelspec": {
   "display_name": "Python 3 (ipykernel)",
   "language": "python",
   "name": "python3"
  },
  "language_info": {
   "codemirror_mode": {
    "name": "ipython",
    "version": 3
   },
   "file_extension": ".py",
   "mimetype": "text/x-python",
   "name": "python",
   "nbconvert_exporter": "python",
   "pygments_lexer": "ipython3",
   "version": "3.9.12"
  }
 },
 "nbformat": 4,
 "nbformat_minor": 5
}
